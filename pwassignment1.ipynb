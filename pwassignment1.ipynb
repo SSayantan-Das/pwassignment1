{
  "nbformat": 4,
  "nbformat_minor": 0,
  "metadata": {
    "colab": {
      "provenance": []
    },
    "kernelspec": {
      "name": "python3",
      "display_name": "Python 3"
    },
    "language_info": {
      "name": "python"
    }
  },
  "cells": [
    {
      "cell_type": "code",
      "execution_count": null,
      "metadata": {
        "id": "grDVEjCpbdLc"
      },
      "outputs": [],
      "source": []
    },
    {
      "cell_type": "markdown",
      "source": [
        "What is Python?"
      ],
      "metadata": {
        "id": "vTbzNxUPbxjY"
      }
    },
    {
      "cell_type": "markdown",
      "source": [
        "Python is a programming language.\n"
      ],
      "metadata": {
        "id": "VPyBAblGb743"
      }
    },
    {
      "cell_type": "code",
      "source": [
        "print(\"Hello World\")"
      ],
      "metadata": {
        "colab": {
          "base_uri": "https://localhost:8080/"
        },
        "id": "qMaNdqe0b1fH",
        "outputId": "47deedce-c776-4c7b-924c-a800bca1ec4e"
      },
      "execution_count": 1,
      "outputs": [
        {
          "output_type": "stream",
          "name": "stdout",
          "text": [
            "Hello World\n"
          ]
        }
      ]
    }
  ]
}